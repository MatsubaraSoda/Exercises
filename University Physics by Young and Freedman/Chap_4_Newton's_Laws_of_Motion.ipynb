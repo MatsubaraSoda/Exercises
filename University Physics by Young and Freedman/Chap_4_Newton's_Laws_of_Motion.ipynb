{
  "nbformat": 4,
  "nbformat_minor": 0,
  "metadata": {
    "colab": {
      "provenance": [],
      "authorship_tag": "ABX9TyNjTslPaQGvnkIsbCLX0EAj",
      "include_colab_link": true
    },
    "kernelspec": {
      "name": "python3",
      "display_name": "Python 3"
    },
    "language_info": {
      "name": "python"
    }
  },
  "cells": [
    {
      "cell_type": "markdown",
      "metadata": {
        "id": "view-in-github",
        "colab_type": "text"
      },
      "source": [
        "<a href=\"https://colab.research.google.com/github/MatsubaraSoda/Exercises/blob/main/University%20Physics%20by%20Young%20and%20Freedman/Chap_4_Newton's_Laws_of_Motion.ipynb\" target=\"_parent\"><img src=\"https://colab.research.google.com/assets/colab-badge.svg\" alt=\"Open In Colab\"/></a>"
      ]
    },
    {
      "cell_type": "code",
      "execution_count": null,
      "metadata": {
        "colab": {
          "base_uri": "https://localhost:8080/"
        },
        "id": "_wVvtUNE3voG",
        "outputId": "a44632ac-59dd-43b1-b6b6-bfa495bf6a83"
      },
      "outputs": [
        {
          "output_type": "stream",
          "name": "stdout",
          "text": [
            "Collecting pint\n",
            "  Downloading Pint-0.24.3-py3-none-any.whl.metadata (8.5 kB)\n",
            "Collecting appdirs>=1.4.4 (from pint)\n",
            "  Downloading appdirs-1.4.4-py2.py3-none-any.whl.metadata (9.0 kB)\n",
            "Requirement already satisfied: typing-extensions in /usr/local/lib/python3.10/dist-packages (from pint) (4.12.2)\n",
            "Collecting flexcache>=0.3 (from pint)\n",
            "  Downloading flexcache-0.3-py3-none-any.whl.metadata (7.0 kB)\n",
            "Collecting flexparser>=0.3 (from pint)\n",
            "  Downloading flexparser-0.3.1-py3-none-any.whl.metadata (18 kB)\n",
            "Downloading Pint-0.24.3-py3-none-any.whl (301 kB)\n",
            "\u001b[2K   \u001b[90m━━━━━━━━━━━━━━━━━━━━━━━━━━━━━━━━━━━━━━━━\u001b[0m \u001b[32m301.8/301.8 kB\u001b[0m \u001b[31m6.3 MB/s\u001b[0m eta \u001b[36m0:00:00\u001b[0m\n",
            "\u001b[?25hDownloading appdirs-1.4.4-py2.py3-none-any.whl (9.6 kB)\n",
            "Downloading flexcache-0.3-py3-none-any.whl (13 kB)\n",
            "Downloading flexparser-0.3.1-py3-none-any.whl (27 kB)\n",
            "Installing collected packages: appdirs, flexparser, flexcache, pint\n",
            "Successfully installed appdirs-1.4.4 flexcache-0.3 flexparser-0.3.1 pint-0.24.3\n",
            "Collecting uncertainties\n",
            "  Downloading uncertainties-3.2.2-py3-none-any.whl.metadata (6.9 kB)\n",
            "Downloading uncertainties-3.2.2-py3-none-any.whl (58 kB)\n",
            "\u001b[2K   \u001b[90m━━━━━━━━━━━━━━━━━━━━━━━━━━━━━━━━━━━━━━━━\u001b[0m \u001b[32m58.3/58.3 kB\u001b[0m \u001b[31m1.9 MB/s\u001b[0m eta \u001b[36m0:00:00\u001b[0m\n",
            "\u001b[?25hInstalling collected packages: uncertainties\n",
            "Successfully installed uncertainties-3.2.2\n",
            "Requirement already satisfied: scipy in /usr/local/lib/python3.10/dist-packages (1.13.1)\n",
            "Requirement already satisfied: numpy<2.3,>=1.22.4 in /usr/local/lib/python3.10/dist-packages (from scipy) (1.26.4)\n",
            "Requirement already satisfied: numpy in /usr/local/lib/python3.10/dist-packages (1.26.4)\n",
            "Requirement already satisfied: sympy in /usr/local/lib/python3.10/dist-packages (1.13.1)\n",
            "Requirement already satisfied: mpmath<1.4,>=1.1.0 in /usr/local/lib/python3.10/dist-packages (from sympy) (1.3.0)\n",
            "Requirement already satisfied: pandas in /usr/local/lib/python3.10/dist-packages (2.1.4)\n",
            "Requirement already satisfied: numpy<2,>=1.22.4 in /usr/local/lib/python3.10/dist-packages (from pandas) (1.26.4)\n",
            "Requirement already satisfied: python-dateutil>=2.8.2 in /usr/local/lib/python3.10/dist-packages (from pandas) (2.8.2)\n",
            "Requirement already satisfied: pytz>=2020.1 in /usr/local/lib/python3.10/dist-packages (from pandas) (2024.1)\n",
            "Requirement already satisfied: tzdata>=2022.1 in /usr/local/lib/python3.10/dist-packages (from pandas) (2024.1)\n",
            "Requirement already satisfied: six>=1.5 in /usr/local/lib/python3.10/dist-packages (from python-dateutil>=2.8.2->pandas) (1.16.0)\n",
            "Requirement already satisfied: matplotlib in /usr/local/lib/python3.10/dist-packages (3.7.1)\n",
            "Requirement already satisfied: contourpy>=1.0.1 in /usr/local/lib/python3.10/dist-packages (from matplotlib) (1.2.1)\n",
            "Requirement already satisfied: cycler>=0.10 in /usr/local/lib/python3.10/dist-packages (from matplotlib) (0.12.1)\n",
            "Requirement already satisfied: fonttools>=4.22.0 in /usr/local/lib/python3.10/dist-packages (from matplotlib) (4.53.1)\n",
            "Requirement already satisfied: kiwisolver>=1.0.1 in /usr/local/lib/python3.10/dist-packages (from matplotlib) (1.4.5)\n",
            "Requirement already satisfied: numpy>=1.20 in /usr/local/lib/python3.10/dist-packages (from matplotlib) (1.26.4)\n",
            "Requirement already satisfied: packaging>=20.0 in /usr/local/lib/python3.10/dist-packages (from matplotlib) (24.1)\n",
            "Requirement already satisfied: pillow>=6.2.0 in /usr/local/lib/python3.10/dist-packages (from matplotlib) (9.4.0)\n",
            "Requirement already satisfied: pyparsing>=2.3.1 in /usr/local/lib/python3.10/dist-packages (from matplotlib) (3.1.2)\n",
            "Requirement already satisfied: python-dateutil>=2.7 in /usr/local/lib/python3.10/dist-packages (from matplotlib) (2.8.2)\n",
            "Requirement already satisfied: six>=1.5 in /usr/local/lib/python3.10/dist-packages (from python-dateutil>=2.7->matplotlib) (1.16.0)\n"
          ]
        }
      ],
      "source": [
        "!pip install pint\n",
        "!pip install uncertainties\n",
        "!pip install scipy\n",
        "!pip install numpy\n",
        "!pip install sympy\n",
        "!pip install pandas\n",
        "!pip install matplotlib"
      ]
    },
    {
      "cell_type": "code",
      "source": [
        "from uncertainties import ufloat\n",
        "from scipy import constants\n",
        "import pint\n",
        "import numpy as np\n",
        "import sympy as sp\n",
        "import pandas as pd\n",
        "import matplotlib.pyplot as plt\n",
        "\n",
        "ureg = pint.UnitRegistry()"
      ],
      "metadata": {
        "id": "q6wYsaLa357Z"
      },
      "execution_count": null,
      "outputs": []
    },
    {
      "cell_type": "markdown",
      "source": [
        "# Exercises"
      ],
      "metadata": {
        "id": "AydLJ08a37oL"
      }
    },
    {
      "cell_type": "code",
      "source": [
        "# 4.1\n",
        "f_Rover = np.array([288, 0])\n",
        "f_Fido = np.array([324 * np.cos(51.0 * (np.pi/180)), 324 * np.sin(51.0 * (np.pi/180))])\n",
        "f_resultant = f_Rover + f_Fido\n",
        "print(f\"The magnitude of the resultant force is {np.linalg.norm(f_resultant):.3g} N.\")\n",
        "\n",
        "angle = np.arccos(np.dot(f_Rover, f_resultant) / (np.linalg.norm(f_Rover) * np.linalg.norm(f_resultant)))\n",
        "angle = np.degrees(angle)\n",
        "print(f\"The angle it makes with Rover's rope is {angle:.3g} degrees.\")"
      ],
      "metadata": {
        "id": "7QL_1lfW38yx",
        "colab": {
          "base_uri": "https://localhost:8080/"
        },
        "outputId": "d1beb364-e2f7-4632-9154-0a4232f2688a"
      },
      "execution_count": null,
      "outputs": [
        {
          "output_type": "stream",
          "name": "stdout",
          "text": [
            "The magnitude of the resultant force is 553 N.\n",
            "The angle it makes with Rover's rope is 27.1 degrees.\n"
          ]
        }
      ]
    },
    {
      "cell_type": "code",
      "source": [
        "# 4.3 Jaw Injury.\n",
        "f = sp.symbols('f')\n",
        "eq = sp.Eq(2 * f * np.cos(np.radians(75 / 2)), 5.00)\n",
        "sol = sp.solve(eq, f)\n",
        "print(f\"每根绳子的张力应当为 {sol[0]:.3g} N.\")"
      ],
      "metadata": {
        "colab": {
          "base_uri": "https://localhost:8080/"
        },
        "id": "EIAuMJ5g5twq",
        "outputId": "baf3b49f-07c9-4a68-955c-af3b02faa8f0"
      },
      "execution_count": null,
      "outputs": [
        {
          "output_type": "stream",
          "name": "stdout",
          "text": [
            "每根绳子的张力应当为 3.15 N.\n"
          ]
        }
      ]
    },
    {
      "cell_type": "code",
      "source": [
        "# 4.5\n",
        "f_1 = 8.00\n",
        "angle_1 = 180 - 64\n",
        "angle_1 = np.radians(angle_1)\n",
        "\n",
        "f_2 = 5.40\n",
        "angle_2 = -(180 - 53.9)\n",
        "angle_2 = np.radians(angle_2)\n",
        "\n",
        "vector_f_1 = np.array([f_1 * np.cos(angle_1), f_1 * np.sin(angle_1)])\n",
        "vector_f_2 = np.array([f_2 * np.cos(angle_2), f_2 * np.sin(angle_2)])\n",
        "vector_f_resultant = vector_f_1 + vector_f_2\n",
        "print(f\"(a) The x-component of the resultant force is {vector_f_resultant[0]:.3} N, the y-component is {vector_f_resultant[1]:.3g} N.\")\n",
        "print(f\"(b) The magnitude is {np.linalg.norm(vector_f_resultant):.3g} N.\")"
      ],
      "metadata": {
        "colab": {
          "base_uri": "https://localhost:8080/"
        },
        "id": "UOeaYwVj8A9p",
        "outputId": "3cc994c7-6dee-41e7-bde8-df80b47d4716"
      },
      "execution_count": null,
      "outputs": [
        {
          "output_type": "stream",
          "name": "stdout",
          "text": [
            "(a) The x-component of the resultant force is -6.69 N, the y-component is 2.83 N.\n",
            "(b) The magnitude is 7.26 N.\n"
          ]
        }
      ]
    },
    {
      "cell_type": "code",
      "source": [
        "# 4.7\n",
        "a = ((0 - 2.40) / (3.52 - 0)) * ureg.meter / ureg.second**2\n",
        "F_f = (68.5 * ureg.kilogram * a).to(ureg.N)\n",
        "print(f\"The friction exerted on the skater {F_f:.3g}.\")"
      ],
      "metadata": {
        "colab": {
          "base_uri": "https://localhost:8080/"
        },
        "id": "xljv2eGO9lfs",
        "outputId": "d1371363-91fa-45b4-8eb2-045fcf56b22a"
      },
      "execution_count": null,
      "outputs": [
        {
          "output_type": "stream",
          "name": "stdout",
          "text": [
            "The friction exerted on the skater -46.7 newton.\n"
          ]
        }
      ]
    },
    {
      "cell_type": "code",
      "source": [
        "# 4.9\n",
        "F = 50 * ureg.N\n",
        "a = 3.60 * ureg.meter / ureg.second**2\n",
        "m = (F / a).to(ureg.kilogram)\n",
        "print(f\"The mass of the box is {m:.3g}.\")"
      ],
      "metadata": {
        "colab": {
          "base_uri": "https://localhost:8080/"
        },
        "id": "OtjHlfZh-6dP",
        "outputId": "aa191262-748c-457a-e71a-d6d7efa7dd54"
      },
      "execution_count": null,
      "outputs": [
        {
          "output_type": "stream",
          "name": "stdout",
          "text": [
            "The mass of the box is 13.9 kilogram.\n"
          ]
        }
      ]
    },
    {
      "cell_type": "code",
      "source": [
        "# 4.11\n",
        "F = 0.250 * ureg.N\n",
        "m = 0.160 * ureg.kilogram\n",
        "a = (F / m).to(ureg.meter / ureg.second**2)\n",
        "\n",
        "x_1 = 1/2 * a * (2*ureg.second)**2\n",
        "x_2 = a * (2*ureg.second) * (3*ureg.second)\n",
        "x_3 = a * (2*ureg.second) * (2*ureg.second) + 1/2 * a * (2*ureg.second)**2\n",
        "\n",
        "print(f\"(a) When t = 2.00 s, the position is {x_1:.3g}, the speed is {a * (2*ureg.second):.3g}.\")\n",
        "print(f\"(b) When t = 7.00 s, the position is {x_1+x_2+x_3:.3g}, the speed is {a * (4*ureg.second):.3g}.\")"
      ],
      "metadata": {
        "colab": {
          "base_uri": "https://localhost:8080/"
        },
        "id": "ZSrO8YaN_U8S",
        "outputId": "9b0da9b4-dd1b-4044-9b63-cb1c70ae3bf5"
      },
      "execution_count": null,
      "outputs": [
        {
          "output_type": "stream",
          "name": "stdout",
          "text": [
            "(a) When t = 2.00 s, the position is 3.12 meter, the speed is 3.12 meter / second.\n",
            "(b) When t = 7.00 s, the position is 21.9 meter, the speed is 6.25 meter / second.\n"
          ]
        }
      ]
    },
    {
      "cell_type": "code",
      "source": [
        "# 4.13\n",
        "# Pass."
      ],
      "metadata": {
        "id": "iz-CmjodE424"
      },
      "execution_count": null,
      "outputs": []
    },
    {
      "cell_type": "code",
      "source": [
        "# 4.15\n",
        "m = 5.00 * ureg.kilogram\n",
        "g = 9.80 * ureg.meter / ureg.second**2\n",
        "A = 130 * ureg.N\n",
        "B = (152.0 * ureg.N - A) / (2.00 * ureg.second)**2\n",
        "\n",
        "print(f\"(a) A = {A:.4g}, B = {B:.4g}.\")\n",
        "\n",
        "# When t = 0 s\n",
        "t = 0 * ureg.second\n",
        "F = A + B * t**2 - m * g\n",
        "a = F / m\n",
        "print(f\"(b)(i) {F:.4g}, {a.to(ureg.meter/ureg.second**2):.4g}.\")\n",
        "# When t = 3.50 s\n",
        "t = 3.50 * ureg.second\n",
        "F = A + B * t**2 - m * g\n",
        "a = F / m\n",
        "print(f\"(b)(ii) {F:.4g}, {a.to(ureg.meter/ureg.second**2):.4g}.\")\n",
        "# When t = 3.50 s and at outer space\n",
        "t = 3.50 * ureg.second\n",
        "F = A + B * t**2\n",
        "a = F / m\n",
        "print(f\"(c) {F:.4g}, {a.to(ureg.meter/ureg.second**2):.4g}.\")"
      ],
      "metadata": {
        "colab": {
          "base_uri": "https://localhost:8080/"
        },
        "id": "AqlcXDJtGiiJ",
        "outputId": "24c574b2-768b-4a07-d54d-f0865d125e7d"
      },
      "execution_count": null,
      "outputs": [
        {
          "output_type": "stream",
          "name": "stdout",
          "text": [
            "(a) A = 130 newton, B = 5.5 newton / second ** 2.\n",
            "(b)(i) 81 newton, 16.2 meter / second ** 2.\n",
            "(b)(ii) 148.4 newton, 29.68 meter / second ** 2.\n",
            "(c) 197.4 newton, 39.48 meter / second ** 2.\n"
          ]
        }
      ]
    },
    {
      "cell_type": "code",
      "source": [
        "# 4.17\n",
        "w = 1650 * ureg.N\n",
        "g = 9.80 * ureg.meter / ureg.second**2\n",
        "m = w / g\n",
        "a = 13.6 * ureg.meter / ureg.second**2\n",
        "F_horizontal = m * a\n",
        "print(f\"The horizontal force is {F_horizontal:.3g}.\")"
      ],
      "metadata": {
        "colab": {
          "base_uri": "https://localhost:8080/"
        },
        "id": "oTUFvHKxJKTm",
        "outputId": "2cccdec9-2c3c-4ed6-9ea7-03f4726d09e7"
      },
      "execution_count": null,
      "outputs": [
        {
          "output_type": "stream",
          "name": "stdout",
          "text": [
            "The horizontal force is 2.29e+03 newton.\n"
          ]
        }
      ]
    },
    {
      "cell_type": "code",
      "source": [
        "# 4.19\n",
        "g_Io = 1.81 * ureg.meter / ureg.second**2\n",
        "g_earth = 9.80 * ureg.meter / ureg.second**2\n",
        "w_watermelon_on_earth = 48.0 * ureg.N\n",
        "m = w_watermelon_on_earth / g_earth\n",
        "w_watermelon_on_Io = m * g_Io\n",
        "print(f\"The weight of the watermelon on Io is {w_watermelon_on_Io.to(ureg.N):.3g}.\")\n",
        "print(f\"The mass of the watermelon is {m.to(ureg.kilogram):.3g}, whether on Earth or on Io.\")"
      ],
      "metadata": {
        "colab": {
          "base_uri": "https://localhost:8080/"
        },
        "id": "9NCY8QApKQit",
        "outputId": "338e2f3c-234f-44ef-bfaf-73cdc604cabb"
      },
      "execution_count": null,
      "outputs": [
        {
          "output_type": "stream",
          "name": "stdout",
          "text": [
            "The weight of the watermelon on Io is 8.87 newton.\n",
            "The mass of the watermelon is 4.9 kilogram, whether on Earth or on Io.\n"
          ]
        }
      ]
    },
    {
      "cell_type": "code",
      "source": [
        "# 4.21\n",
        "m = 45 * ureg.kilogram\n",
        "a = 15 * ureg.N / ureg.kilogram\n",
        "F = m * a\n",
        "print(f\"The horizontal force is {F:.2g}.\")\n",
        "print(f\"根据牛顿第三定律，来自蹬板的反作用力。\")"
      ],
      "metadata": {
        "colab": {
          "base_uri": "https://localhost:8080/"
        },
        "id": "GTdsFiypLs9L",
        "outputId": "c4bad895-88ff-4031-f2fe-716e07a59426"
      },
      "execution_count": null,
      "outputs": [
        {
          "output_type": "stream",
          "name": "stdout",
          "text": [
            "The horizontal force is 6.8e+02 newton.\n",
            "根据牛顿第三定律，来自蹬板的反作用力。\n"
          ]
        }
      ]
    },
    {
      "cell_type": "code",
      "source": [
        "# 4.23\n",
        "# 草稿纸画受力分析，MMA计算结果。\n",
        "print(f\"{24.2424:.3g}N.\")"
      ],
      "metadata": {
        "colab": {
          "base_uri": "https://localhost:8080/"
        },
        "id": "29Ut_6qqNBOn",
        "outputId": "2026d89c-d44d-4c08-be1c-789b9f8ad80f"
      },
      "execution_count": null,
      "outputs": [
        {
          "output_type": "stream",
          "name": "stdout",
          "text": [
            "24.2N.\n"
          ]
        }
      ]
    },
    {
      "cell_type": "code",
      "source": [
        "# 4.25\n",
        "g = 9.8 * ureg.N / ureg.kilogram\n",
        "m = 45 * ureg.kilogram\n",
        "M = 6.0 * (10**24) * ureg.kilogram\n",
        "a = g * m / M\n",
        "print(f\"The acceleration is {a.to(ureg.meter/ureg.second**2):.2g}.\")"
      ],
      "metadata": {
        "colab": {
          "base_uri": "https://localhost:8080/"
        },
        "id": "Wj9_HIfbPcd9",
        "outputId": "7f4d9201-3829-4775-be00-1bfb0af8f93f"
      },
      "execution_count": null,
      "outputs": [
        {
          "output_type": "stream",
          "name": "stdout",
          "text": [
            "The acceleration is 7.4e-23 meter / second ** 2.\n"
          ]
        }
      ]
    },
    {
      "cell_type": "code",
      "source": [
        "# 4.27\n",
        "# Pass."
      ],
      "metadata": {
        "id": "Alt_LesCRYwC"
      },
      "execution_count": null,
      "outputs": []
    },
    {
      "cell_type": "code",
      "source": [
        "# 4.29\n",
        "# Pass."
      ],
      "metadata": {
        "id": "N5qTO7uPTWDI"
      },
      "execution_count": null,
      "outputs": []
    },
    {
      "cell_type": "markdown",
      "source": [
        "# Problems"
      ],
      "metadata": {
        "id": "aR-cPRh3UASt"
      }
    },
    {
      "cell_type": "code",
      "source": [
        "# 4.31\n",
        "# Pass."
      ],
      "metadata": {
        "id": "IrBnB-JmT_df"
      },
      "execution_count": null,
      "outputs": []
    },
    {
      "cell_type": "code",
      "source": [
        "# 4.33\n",
        "g = 9.8 * ureg.N / ureg.kilogram\n",
        "m = 4.40 * ureg.kilogram\n",
        "w = m * g\n",
        "T_max = 74.0 * ureg.N\n",
        "F_net = T_max - w\n",
        "a = F_net / m\n",
        "h = 14.0 * ureg.meter\n",
        "t = (2 * h / a)**(1/2)\n",
        "t = t.to(ureg.second)\n",
        "print(f\"The minimum time required is {t:.3g}.\")"
      ],
      "metadata": {
        "colab": {
          "base_uri": "https://localhost:8080/"
        },
        "id": "t1nbxQZQUXYR",
        "outputId": "dc874350-992e-403c-cdce-f68e86756ce4"
      },
      "execution_count": null,
      "outputs": [
        {
          "output_type": "stream",
          "name": "stdout",
          "text": [
            "The minimum time required is 2 second.\n"
          ]
        }
      ]
    },
    {
      "cell_type": "code",
      "source": [
        "# 4.35\n",
        "F_1 = 100\n",
        "angle_1 = np.radians(60)\n",
        "vector_F_1 = np.array([F_1 * np.cos(angle_1), F_1 * np.sin(angle_1)])\n",
        "\n",
        "F_2 = 140\n",
        "angle_2 = np.radians(-30)\n",
        "vector_F_2 = np.array([F_2 * np.cos(angle_2), F_2 * np.sin(angle_2)])\n",
        "\n",
        "vector_F_resultant = vector_F_1 + vector_F_2\n",
        "\n",
        "F_3_vector = np.array([0, -vector_F_resultant[1]])\n",
        "angle_3 = np.arctan2(F_3_vector[1], F_3_vector[0])\n",
        "print(f\"(a) The magnitude of the smallest force is {np.linalg.norm(F_3_vector):.2g} N, and the direction is {np.degrees(angle_3):.2g} degrees.\")\n",
        "\n",
        "vector_F_resultant = vector_F_resultant + F_3_vector\n",
        "F_net = np.linalg.norm(vector_F_resultant)\n",
        "a = 2.0\n",
        "m = F_net / a\n",
        "print(f\"(b) The wight of the cart is {m:.2g} kg.\")"
      ],
      "metadata": {
        "colab": {
          "base_uri": "https://localhost:8080/"
        },
        "id": "cvISQV1JVre0",
        "outputId": "7c9148e5-4b42-4c0c-bfa6-1a263672cefb"
      },
      "execution_count": null,
      "outputs": [
        {
          "output_type": "stream",
          "name": "stdout",
          "text": [
            "(a) The magnitude of the smallest force is 17 N, and the direction is -90 degrees.\n",
            "(b) The wight of the cart is 86 kg.\n"
          ]
        }
      ]
    },
    {
      "cell_type": "code",
      "source": [
        "# 4.37\n",
        "# 涉及到受力分析图，草稿纸分析。Pass."
      ],
      "metadata": {
        "id": "_CsFeMvrYWOd"
      },
      "execution_count": null,
      "outputs": []
    },
    {
      "cell_type": "code",
      "source": [
        "# 4.39 CALC\n",
        "t = sp.symbols('t ')\n",
        "\n",
        "x_exp = 9.0 * 10**3 * t**2 - 8.0 * 10**4 * t**3\n",
        "v_exp = x_exp.diff(t)\n",
        "a_exp = v_exp.diff(t)\n",
        "\n",
        "x_gun_barrel = x_exp.subs(t, 0.025) # in meter.\n",
        "print(f\"(a) The gun barrel should be {x_gun_barrel:.2g} m.\")\n",
        "\n",
        "v_gun_barrel = v_exp.subs(t, 0.025) # in m/s.\n",
        "print(f\"(b) The speed is {v_gun_barrel:.2g} m/s.\")\n",
        "\n",
        "m = 1.50\n",
        "F_1 = m * a_exp.subs(t, 0)\n",
        "F_2 = m * a_exp.subs(t, 0.025)\n",
        "print(f\"(c)(i) {F_1:.2g} N.\")\n",
        "print(f\"(c)(ii) {F_2:.2g} N.\")"
      ],
      "metadata": {
        "colab": {
          "base_uri": "https://localhost:8080/"
        },
        "id": "jhjw0kWSa7cT",
        "outputId": "1a6f1e17-f02b-4252-ccdc-ee29cdcf2af8"
      },
      "execution_count": null,
      "outputs": [
        {
          "output_type": "stream",
          "name": "stdout",
          "text": [
            "(a) The gun barrel should be 4.4 m.\n",
            "(b) The speed is 3.0e+2 m/s.\n",
            "(c)(i) 2.7e+4 N.\n",
            "(c)(ii) 9.0e+3 N.\n"
          ]
        }
      ]
    },
    {
      "cell_type": "code",
      "source": [
        "# 4.41 CP\n",
        "w = 683 * ureg.N\n",
        "g = 9.8 * ureg.N / ureg.kilogram\n",
        "m = w / g\n",
        "\n",
        "n_1 = 725 * ureg.N\n",
        "F_net_1 = n_1 - w\n",
        "a_1 = F_net_1 / m\n",
        "print(f\"(a) {a_1.to(ureg.meter/ureg.second**2):.3g}.\")\n",
        "\n",
        "n_2 = 595 * ureg.N\n",
        "F_net_2 = n_2 - w\n",
        "a_2 = F_net_2 / m\n",
        "print(f\"(b) {a_2.to(ureg.meter/ureg.second**2):.3g}.\")"
      ],
      "metadata": {
        "colab": {
          "base_uri": "https://localhost:8080/"
        },
        "id": "yBHigrpQdjcN",
        "outputId": "4eb537cc-70a7-49cd-946f-ea46794d7410"
      },
      "execution_count": null,
      "outputs": [
        {
          "output_type": "stream",
          "name": "stdout",
          "text": [
            "(a) 0.603 meter / second ** 2.\n",
            "(b) -1.26 meter / second ** 2.\n"
          ]
        }
      ]
    },
    {
      "cell_type": "code",
      "source": [
        "# 4.43 CP\n",
        "m = 0.145\n",
        "v_1 = -40.0\n",
        "v_2 = 50.0\n",
        "t = 8.00 * 10**(-3)\n",
        "a = (v_2 - v_1) / t\n",
        "F = m * a\n",
        "print(f\"The average force is {F:.3g} N.\")"
      ],
      "metadata": {
        "colab": {
          "base_uri": "https://localhost:8080/"
        },
        "id": "cnC0_HDHgzUK",
        "outputId": "a76da9ff-0836-46a5-8e3c-076a70ccae87"
      },
      "execution_count": null,
      "outputs": [
        {
          "output_type": "stream",
          "name": "stdout",
          "text": [
            "The average force is 1.63e+03 N.\n"
          ]
        }
      ]
    },
    {
      "cell_type": "code",
      "source": [
        "# 4.45\n",
        "g = 9.8\n",
        "F_upward = 80.0\n",
        "h = - 12.0\n",
        "t = 4.00\n",
        "T_A_to_B = 36.0\n",
        "T_B_to_A = - T_A_to_B\n",
        "\n",
        "a = 2 * h / t**2\n",
        "M = F_upward / (a + g)\n",
        "\n",
        "m_B = T_A_to_B / (a + g)\n",
        "m_A = M - m_B\n",
        "print(f\"(a) The mass of B is {m_B:.3g} kg.\")\n",
        "print(f\"(b) The mass of A is {m_A:.3g} kg.\")"
      ],
      "metadata": {
        "colab": {
          "base_uri": "https://localhost:8080/"
        },
        "id": "el0BhuhzilGx",
        "outputId": "9315ab4f-8d61-45a6-c1c9-164d97e36af1"
      },
      "execution_count": null,
      "outputs": [
        {
          "output_type": "stream",
          "name": "stdout",
          "text": [
            "(a) The mass of B is 4.34 kg.\n",
            "(b) The mass of A is 5.3 kg.\n"
          ]
        }
      ]
    },
    {
      "cell_type": "code",
      "source": [
        "# 4.47 CP\n",
        "m = 20.0\n",
        "g = -9.8\n",
        "y_0 = 80\n",
        "y_1 = 0\n",
        "v_0 = -30\n",
        "v_1 = 0\n",
        "\n",
        "a = (v_1**2 - v_0**2) / (2 * (y_1 - y_0))\n",
        "F = m * a - m * g\n",
        "print(f\"The value of F is {F:.3g} N.\")"
      ],
      "metadata": {
        "colab": {
          "base_uri": "https://localhost:8080/"
        },
        "id": "0T7v1h_Bpwl1",
        "outputId": "66451ca0-1b79-49b1-ff9d-461c9e295b6e"
      },
      "execution_count": null,
      "outputs": [
        {
          "output_type": "stream",
          "name": "stdout",
          "text": [
            "The value of F is 308 N.\n"
          ]
        }
      ]
    },
    {
      "cell_type": "code",
      "source": [
        "# 4.49 CP CALC\n",
        "t = sp.symbols('t ')\n",
        "\n",
        "m = 49.5\n",
        "F_exp = 15.5 * t\n",
        "a_exp = F_exp / m\n",
        "v_exp = a_exp.integrate(t)\n",
        "r_exp = v_exp.integrate(t)\n",
        "\n",
        "d = r_exp.subs(t, 4.25)\n",
        "print(f\"The distance is {d:.3g} m.\")"
      ],
      "metadata": {
        "colab": {
          "base_uri": "https://localhost:8080/"
        },
        "id": "yIa1mj70rc2T",
        "outputId": "a55471b0-71a8-4907-cb71-8eb700d262c8"
      },
      "execution_count": null,
      "outputs": [
        {
          "output_type": "stream",
          "name": "stdout",
          "text": [
            "The distance is 4.01 m.\n"
          ]
        }
      ]
    },
    {
      "cell_type": "code",
      "source": [
        "# 4.51 DATA\n",
        "# Mam stands for Make and Model (Year)\n",
        "# Mass stands for Mass (kg)\n",
        "# Time stands for Time (s) to go from 0 to 100 km>h\n",
        "data = {\n",
        "    'MaM':['Alpha Romeo 4C (2013)', 'Honda Civic 2.0i (2011)', 'Ferrari F430 (2004)', 'Ford Focus RS500 (2010)', 'Volvo S60 (2013)'],\n",
        "    'Mass':[895., 1320., 1435., 1468., 1650.],\n",
        "    'Time':[4.5, 6.6, 4.0, 5.6, 7.4]\n",
        "}\n",
        "df = pd.DataFrame(data)\n",
        "\n",
        "u = (100 * ureg.kilometer / ureg.hour).to(ureg.meter / ureg.second).magnitude\n",
        "\n",
        "df['F'] = df['Mass'] / df['Time'] * u\n",
        "\n",
        "display(df)\n",
        "\n",
        "# Pass."
      ],
      "metadata": {
        "colab": {
          "base_uri": "https://localhost:8080/",
          "height": 206
        },
        "id": "1qFLJ8AMtWiP",
        "outputId": "1a343aac-6083-49dc-8b90-1d50d4d9d184"
      },
      "execution_count": null,
      "outputs": [
        {
          "output_type": "display_data",
          "data": {
            "text/plain": [
              "                       MaM    Mass  Time            F\n",
              "0    Alpha Romeo 4C (2013)   895.0   4.5  5524.691358\n",
              "1  Honda Civic 2.0i (2011)  1320.0   6.6  5555.555556\n",
              "2      Ferrari F430 (2004)  1435.0   4.0  9965.277778\n",
              "3  Ford Focus RS500 (2010)  1468.0   5.6  7281.746032\n",
              "4         Volvo S60 (2013)  1650.0   7.4  6193.693694"
            ],
            "text/html": [
              "\n",
              "  <div id=\"df-41a26391-e1b6-4a3a-835f-e6a776b3308d\" class=\"colab-df-container\">\n",
              "    <div>\n",
              "<style scoped>\n",
              "    .dataframe tbody tr th:only-of-type {\n",
              "        vertical-align: middle;\n",
              "    }\n",
              "\n",
              "    .dataframe tbody tr th {\n",
              "        vertical-align: top;\n",
              "    }\n",
              "\n",
              "    .dataframe thead th {\n",
              "        text-align: right;\n",
              "    }\n",
              "</style>\n",
              "<table border=\"1\" class=\"dataframe\">\n",
              "  <thead>\n",
              "    <tr style=\"text-align: right;\">\n",
              "      <th></th>\n",
              "      <th>MaM</th>\n",
              "      <th>Mass</th>\n",
              "      <th>Time</th>\n",
              "      <th>F</th>\n",
              "    </tr>\n",
              "  </thead>\n",
              "  <tbody>\n",
              "    <tr>\n",
              "      <th>0</th>\n",
              "      <td>Alpha Romeo 4C (2013)</td>\n",
              "      <td>895.0</td>\n",
              "      <td>4.5</td>\n",
              "      <td>5524.691358</td>\n",
              "    </tr>\n",
              "    <tr>\n",
              "      <th>1</th>\n",
              "      <td>Honda Civic 2.0i (2011)</td>\n",
              "      <td>1320.0</td>\n",
              "      <td>6.6</td>\n",
              "      <td>5555.555556</td>\n",
              "    </tr>\n",
              "    <tr>\n",
              "      <th>2</th>\n",
              "      <td>Ferrari F430 (2004)</td>\n",
              "      <td>1435.0</td>\n",
              "      <td>4.0</td>\n",
              "      <td>9965.277778</td>\n",
              "    </tr>\n",
              "    <tr>\n",
              "      <th>3</th>\n",
              "      <td>Ford Focus RS500 (2010)</td>\n",
              "      <td>1468.0</td>\n",
              "      <td>5.6</td>\n",
              "      <td>7281.746032</td>\n",
              "    </tr>\n",
              "    <tr>\n",
              "      <th>4</th>\n",
              "      <td>Volvo S60 (2013)</td>\n",
              "      <td>1650.0</td>\n",
              "      <td>7.4</td>\n",
              "      <td>6193.693694</td>\n",
              "    </tr>\n",
              "  </tbody>\n",
              "</table>\n",
              "</div>\n",
              "    <div class=\"colab-df-buttons\">\n",
              "\n",
              "  <div class=\"colab-df-container\">\n",
              "    <button class=\"colab-df-convert\" onclick=\"convertToInteractive('df-41a26391-e1b6-4a3a-835f-e6a776b3308d')\"\n",
              "            title=\"Convert this dataframe to an interactive table.\"\n",
              "            style=\"display:none;\">\n",
              "\n",
              "  <svg xmlns=\"http://www.w3.org/2000/svg\" height=\"24px\" viewBox=\"0 -960 960 960\">\n",
              "    <path d=\"M120-120v-720h720v720H120Zm60-500h600v-160H180v160Zm220 220h160v-160H400v160Zm0 220h160v-160H400v160ZM180-400h160v-160H180v160Zm440 0h160v-160H620v160ZM180-180h160v-160H180v160Zm440 0h160v-160H620v160Z\"/>\n",
              "  </svg>\n",
              "    </button>\n",
              "\n",
              "  <style>\n",
              "    .colab-df-container {\n",
              "      display:flex;\n",
              "      gap: 12px;\n",
              "    }\n",
              "\n",
              "    .colab-df-convert {\n",
              "      background-color: #E8F0FE;\n",
              "      border: none;\n",
              "      border-radius: 50%;\n",
              "      cursor: pointer;\n",
              "      display: none;\n",
              "      fill: #1967D2;\n",
              "      height: 32px;\n",
              "      padding: 0 0 0 0;\n",
              "      width: 32px;\n",
              "    }\n",
              "\n",
              "    .colab-df-convert:hover {\n",
              "      background-color: #E2EBFA;\n",
              "      box-shadow: 0px 1px 2px rgba(60, 64, 67, 0.3), 0px 1px 3px 1px rgba(60, 64, 67, 0.15);\n",
              "      fill: #174EA6;\n",
              "    }\n",
              "\n",
              "    .colab-df-buttons div {\n",
              "      margin-bottom: 4px;\n",
              "    }\n",
              "\n",
              "    [theme=dark] .colab-df-convert {\n",
              "      background-color: #3B4455;\n",
              "      fill: #D2E3FC;\n",
              "    }\n",
              "\n",
              "    [theme=dark] .colab-df-convert:hover {\n",
              "      background-color: #434B5C;\n",
              "      box-shadow: 0px 1px 3px 1px rgba(0, 0, 0, 0.15);\n",
              "      filter: drop-shadow(0px 1px 2px rgba(0, 0, 0, 0.3));\n",
              "      fill: #FFFFFF;\n",
              "    }\n",
              "  </style>\n",
              "\n",
              "    <script>\n",
              "      const buttonEl =\n",
              "        document.querySelector('#df-41a26391-e1b6-4a3a-835f-e6a776b3308d button.colab-df-convert');\n",
              "      buttonEl.style.display =\n",
              "        google.colab.kernel.accessAllowed ? 'block' : 'none';\n",
              "\n",
              "      async function convertToInteractive(key) {\n",
              "        const element = document.querySelector('#df-41a26391-e1b6-4a3a-835f-e6a776b3308d');\n",
              "        const dataTable =\n",
              "          await google.colab.kernel.invokeFunction('convertToInteractive',\n",
              "                                                    [key], {});\n",
              "        if (!dataTable) return;\n",
              "\n",
              "        const docLinkHtml = 'Like what you see? Visit the ' +\n",
              "          '<a target=\"_blank\" href=https://colab.research.google.com/notebooks/data_table.ipynb>data table notebook</a>'\n",
              "          + ' to learn more about interactive tables.';\n",
              "        element.innerHTML = '';\n",
              "        dataTable['output_type'] = 'display_data';\n",
              "        await google.colab.output.renderOutput(dataTable, element);\n",
              "        const docLink = document.createElement('div');\n",
              "        docLink.innerHTML = docLinkHtml;\n",
              "        element.appendChild(docLink);\n",
              "      }\n",
              "    </script>\n",
              "  </div>\n",
              "\n",
              "\n",
              "<div id=\"df-9839cfbb-e21b-4015-91c2-20a37e4ea286\">\n",
              "  <button class=\"colab-df-quickchart\" onclick=\"quickchart('df-9839cfbb-e21b-4015-91c2-20a37e4ea286')\"\n",
              "            title=\"Suggest charts\"\n",
              "            style=\"display:none;\">\n",
              "\n",
              "<svg xmlns=\"http://www.w3.org/2000/svg\" height=\"24px\"viewBox=\"0 0 24 24\"\n",
              "     width=\"24px\">\n",
              "    <g>\n",
              "        <path d=\"M19 3H5c-1.1 0-2 .9-2 2v14c0 1.1.9 2 2 2h14c1.1 0 2-.9 2-2V5c0-1.1-.9-2-2-2zM9 17H7v-7h2v7zm4 0h-2V7h2v10zm4 0h-2v-4h2v4z\"/>\n",
              "    </g>\n",
              "</svg>\n",
              "  </button>\n",
              "\n",
              "<style>\n",
              "  .colab-df-quickchart {\n",
              "      --bg-color: #E8F0FE;\n",
              "      --fill-color: #1967D2;\n",
              "      --hover-bg-color: #E2EBFA;\n",
              "      --hover-fill-color: #174EA6;\n",
              "      --disabled-fill-color: #AAA;\n",
              "      --disabled-bg-color: #DDD;\n",
              "  }\n",
              "\n",
              "  [theme=dark] .colab-df-quickchart {\n",
              "      --bg-color: #3B4455;\n",
              "      --fill-color: #D2E3FC;\n",
              "      --hover-bg-color: #434B5C;\n",
              "      --hover-fill-color: #FFFFFF;\n",
              "      --disabled-bg-color: #3B4455;\n",
              "      --disabled-fill-color: #666;\n",
              "  }\n",
              "\n",
              "  .colab-df-quickchart {\n",
              "    background-color: var(--bg-color);\n",
              "    border: none;\n",
              "    border-radius: 50%;\n",
              "    cursor: pointer;\n",
              "    display: none;\n",
              "    fill: var(--fill-color);\n",
              "    height: 32px;\n",
              "    padding: 0;\n",
              "    width: 32px;\n",
              "  }\n",
              "\n",
              "  .colab-df-quickchart:hover {\n",
              "    background-color: var(--hover-bg-color);\n",
              "    box-shadow: 0 1px 2px rgba(60, 64, 67, 0.3), 0 1px 3px 1px rgba(60, 64, 67, 0.15);\n",
              "    fill: var(--button-hover-fill-color);\n",
              "  }\n",
              "\n",
              "  .colab-df-quickchart-complete:disabled,\n",
              "  .colab-df-quickchart-complete:disabled:hover {\n",
              "    background-color: var(--disabled-bg-color);\n",
              "    fill: var(--disabled-fill-color);\n",
              "    box-shadow: none;\n",
              "  }\n",
              "\n",
              "  .colab-df-spinner {\n",
              "    border: 2px solid var(--fill-color);\n",
              "    border-color: transparent;\n",
              "    border-bottom-color: var(--fill-color);\n",
              "    animation:\n",
              "      spin 1s steps(1) infinite;\n",
              "  }\n",
              "\n",
              "  @keyframes spin {\n",
              "    0% {\n",
              "      border-color: transparent;\n",
              "      border-bottom-color: var(--fill-color);\n",
              "      border-left-color: var(--fill-color);\n",
              "    }\n",
              "    20% {\n",
              "      border-color: transparent;\n",
              "      border-left-color: var(--fill-color);\n",
              "      border-top-color: var(--fill-color);\n",
              "    }\n",
              "    30% {\n",
              "      border-color: transparent;\n",
              "      border-left-color: var(--fill-color);\n",
              "      border-top-color: var(--fill-color);\n",
              "      border-right-color: var(--fill-color);\n",
              "    }\n",
              "    40% {\n",
              "      border-color: transparent;\n",
              "      border-right-color: var(--fill-color);\n",
              "      border-top-color: var(--fill-color);\n",
              "    }\n",
              "    60% {\n",
              "      border-color: transparent;\n",
              "      border-right-color: var(--fill-color);\n",
              "    }\n",
              "    80% {\n",
              "      border-color: transparent;\n",
              "      border-right-color: var(--fill-color);\n",
              "      border-bottom-color: var(--fill-color);\n",
              "    }\n",
              "    90% {\n",
              "      border-color: transparent;\n",
              "      border-bottom-color: var(--fill-color);\n",
              "    }\n",
              "  }\n",
              "</style>\n",
              "\n",
              "  <script>\n",
              "    async function quickchart(key) {\n",
              "      const quickchartButtonEl =\n",
              "        document.querySelector('#' + key + ' button');\n",
              "      quickchartButtonEl.disabled = true;  // To prevent multiple clicks.\n",
              "      quickchartButtonEl.classList.add('colab-df-spinner');\n",
              "      try {\n",
              "        const charts = await google.colab.kernel.invokeFunction(\n",
              "            'suggestCharts', [key], {});\n",
              "      } catch (error) {\n",
              "        console.error('Error during call to suggestCharts:', error);\n",
              "      }\n",
              "      quickchartButtonEl.classList.remove('colab-df-spinner');\n",
              "      quickchartButtonEl.classList.add('colab-df-quickchart-complete');\n",
              "    }\n",
              "    (() => {\n",
              "      let quickchartButtonEl =\n",
              "        document.querySelector('#df-9839cfbb-e21b-4015-91c2-20a37e4ea286 button');\n",
              "      quickchartButtonEl.style.display =\n",
              "        google.colab.kernel.accessAllowed ? 'block' : 'none';\n",
              "    })();\n",
              "  </script>\n",
              "</div>\n",
              "\n",
              "  <div id=\"id_f89f6ac7-4220-4906-bd57-8145396d54aa\">\n",
              "    <style>\n",
              "      .colab-df-generate {\n",
              "        background-color: #E8F0FE;\n",
              "        border: none;\n",
              "        border-radius: 50%;\n",
              "        cursor: pointer;\n",
              "        display: none;\n",
              "        fill: #1967D2;\n",
              "        height: 32px;\n",
              "        padding: 0 0 0 0;\n",
              "        width: 32px;\n",
              "      }\n",
              "\n",
              "      .colab-df-generate:hover {\n",
              "        background-color: #E2EBFA;\n",
              "        box-shadow: 0px 1px 2px rgba(60, 64, 67, 0.3), 0px 1px 3px 1px rgba(60, 64, 67, 0.15);\n",
              "        fill: #174EA6;\n",
              "      }\n",
              "\n",
              "      [theme=dark] .colab-df-generate {\n",
              "        background-color: #3B4455;\n",
              "        fill: #D2E3FC;\n",
              "      }\n",
              "\n",
              "      [theme=dark] .colab-df-generate:hover {\n",
              "        background-color: #434B5C;\n",
              "        box-shadow: 0px 1px 3px 1px rgba(0, 0, 0, 0.15);\n",
              "        filter: drop-shadow(0px 1px 2px rgba(0, 0, 0, 0.3));\n",
              "        fill: #FFFFFF;\n",
              "      }\n",
              "    </style>\n",
              "    <button class=\"colab-df-generate\" onclick=\"generateWithVariable('df')\"\n",
              "            title=\"Generate code using this dataframe.\"\n",
              "            style=\"display:none;\">\n",
              "\n",
              "  <svg xmlns=\"http://www.w3.org/2000/svg\" height=\"24px\"viewBox=\"0 0 24 24\"\n",
              "       width=\"24px\">\n",
              "    <path d=\"M7,19H8.4L18.45,9,17,7.55,7,17.6ZM5,21V16.75L18.45,3.32a2,2,0,0,1,2.83,0l1.4,1.43a1.91,1.91,0,0,1,.58,1.4,1.91,1.91,0,0,1-.58,1.4L9.25,21ZM18.45,9,17,7.55Zm-12,3A5.31,5.31,0,0,0,4.9,8.1,5.31,5.31,0,0,0,1,6.5,5.31,5.31,0,0,0,4.9,4.9,5.31,5.31,0,0,0,6.5,1,5.31,5.31,0,0,0,8.1,4.9,5.31,5.31,0,0,0,12,6.5,5.46,5.46,0,0,0,6.5,12Z\"/>\n",
              "  </svg>\n",
              "    </button>\n",
              "    <script>\n",
              "      (() => {\n",
              "      const buttonEl =\n",
              "        document.querySelector('#id_f89f6ac7-4220-4906-bd57-8145396d54aa button.colab-df-generate');\n",
              "      buttonEl.style.display =\n",
              "        google.colab.kernel.accessAllowed ? 'block' : 'none';\n",
              "\n",
              "      buttonEl.onclick = () => {\n",
              "        google.colab.notebook.generateWithVariable('df');\n",
              "      }\n",
              "      })();\n",
              "    </script>\n",
              "  </div>\n",
              "\n",
              "    </div>\n",
              "  </div>\n"
            ],
            "application/vnd.google.colaboratory.intrinsic+json": {
              "type": "dataframe",
              "variable_name": "df",
              "summary": "{\n  \"name\": \"df\",\n  \"rows\": 5,\n  \"fields\": [\n    {\n      \"column\": \"MaM\",\n      \"properties\": {\n        \"dtype\": \"string\",\n        \"num_unique_values\": 5,\n        \"samples\": [\n          \"Honda Civic 2.0i (2011)\",\n          \"Volvo S60 (2013)\",\n          \"Ferrari F430 (2004)\"\n        ],\n        \"semantic_type\": \"\",\n        \"description\": \"\"\n      }\n    },\n    {\n      \"column\": \"Mass\",\n      \"properties\": {\n        \"dtype\": \"number\",\n        \"std\": 282.4044971313311,\n        \"min\": 895.0,\n        \"max\": 1650.0,\n        \"num_unique_values\": 5,\n        \"samples\": [\n          1320.0,\n          1650.0,\n          1435.0\n        ],\n        \"semantic_type\": \"\",\n        \"description\": \"\"\n      }\n    },\n    {\n      \"column\": \"Time\",\n      \"properties\": {\n        \"dtype\": \"number\",\n        \"std\": 1.4149204924659196,\n        \"min\": 4.0,\n        \"max\": 7.4,\n        \"num_unique_values\": 5,\n        \"samples\": [\n          6.6,\n          7.4,\n          4.0\n        ],\n        \"semantic_type\": \"\",\n        \"description\": \"\"\n      }\n    },\n    {\n      \"column\": \"F\",\n      \"properties\": {\n        \"dtype\": \"number\",\n        \"std\": 1853.337753187161,\n        \"min\": 5524.691358024691,\n        \"max\": 9965.277777777777,\n        \"num_unique_values\": 5,\n        \"samples\": [\n          5555.555555555556,\n          6193.693693693694,\n          9965.277777777777\n        ],\n        \"semantic_type\": \"\",\n        \"description\": \"\"\n      }\n    }\n  ]\n}"
            }
          },
          "metadata": {}
        }
      ]
    },
    {
      "cell_type": "code",
      "source": [
        "# 4.53\n",
        "# 4.55\n",
        "# 4.57\n",
        "# 4.59\n",
        "# Pass."
      ],
      "metadata": {
        "id": "zJPaSBe5yxr4"
      },
      "execution_count": null,
      "outputs": []
    }
  ]
}